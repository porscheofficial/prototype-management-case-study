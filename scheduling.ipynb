{
 "cells": [
  {
   "cell_type": "code",
   "execution_count": 12,
   "metadata": {},
   "outputs": [],
   "source": [
    "import pandas as pd\n",
    "import copy\n",
    "import random\n",
    "import plotly.express as px\n",
    "\n",
    "from datetime import date\n",
    "from matplotlib import pyplot as plt"
   ]
  },
  {
   "cell_type": "code",
   "execution_count": 13,
   "metadata": {},
   "outputs": [],
   "source": [
    "################### Introduction ########################\n",
    "# This is a mini, non-quantum trial for implementing an algorithm that creates prototypes and schedules tests on them out of given data.\n",
    "# The data is in the form of an excel file where each row specifies an order or \"test\" that has to be performed on a certain date with a specific kind of configuration.\n",
    "# The algorithm checks for shared configurations between these test and specifies prototypes accordingly. These prototypes are then scheduled using a brute-force approach (greedy scheduling), which is blunt but makes sense here, as the set starting dates and configurations of the test heavily reduce the possible solutions.\n",
    "# Instead of claiming to have an optimal solution, this algorithm primarily serves to create a starting point for the problem that can then be adjusted by hand later."
   ]
  },
  {
   "cell_type": "code",
   "execution_count": 14,
   "metadata": {},
   "outputs": [],
   "source": [
    "# Read example data\n",
    "jobs = pd.read_excel('data.xlsx')"
   ]
  },
  {
   "cell_type": "code",
   "execution_count": 15,
   "metadata": {},
   "outputs": [],
   "source": [
    "# Clean up data\n",
    "jobs.replace({'O': 0}, inplace=True) # O in the excel means \"irrelevant\". We assign this property to the number 0 for easier handling later\n",
    "\n",
    "jobs_alpha = jobs[jobs['Phase'] == 'Alpha']\n",
    "jobs_beta = jobs[jobs['Phase'] == 'Beta']\n",
    "jobs_gamma = jobs[jobs['Phase'] == 'Gamma']\n",
    "jobs_delta = jobs[jobs['Phase'] == 'Delta']"
   ]
  },
  {
   "cell_type": "code",
   "execution_count": 16,
   "metadata": {},
   "outputs": [],
   "source": [
    "# Prepare data relevant for prototypes\n",
    "strip_columns = ['Part 1', 'Part 2', 'Part 3', 'Part 4', 'Part 5', 'Part 6']\n",
    "prototypes_alpha = jobs_alpha[strip_columns]\n",
    "prototypes_beta  = jobs_beta[strip_columns]\n",
    "prototypes_gamma = jobs_gamma[strip_columns]\n",
    "prototypes_delta = jobs_delta[strip_columns]"
   ]
  },
  {
   "cell_type": "code",
   "execution_count": 17,
   "metadata": {},
   "outputs": [],
   "source": [
    "################### Functions ########################\n",
    "# Sort jobs by number of possible prototypes\n",
    "def get_num_prototypes(elem):\n",
    "    return len(elem.get('prototypes'))\n",
    "\n",
    "# Sort Jobs by starting time\n",
    "def get_KW(elem):\n",
    "    return elem.get('daterange')[0] + elem.get('daterange')[1]\n",
    "\n",
    "\n",
    "def split_column(df_list, column):\n",
    "    \"\"\"\n",
    "    Splits data-frames by individual column entries\n",
    "    :param df_list: List of data-frames\n",
    "    :param column: Name of column by which to split\n",
    "    :return: Returns list of split data-frames\n",
    "    \"\"\"\n",
    "    temp_list = []\n",
    "    for elem in df_list:\n",
    "        for k in elem[column].unique():\n",
    "            if (k == 0) and (len(elem[column].unique()) > 1):\n",
    "                pass\n",
    "            else:\n",
    "                temp_list.append(elem[(elem[column] == k) | (elem[column] == 0)])\n",
    "    \n",
    "    return temp_list\n",
    "\n",
    "def greedy_scheduling(J, p, suffix=''):\n",
    "    \"\"\"\n",
    "    Assigns Jobs in J to prototypes in p in the order of J. If multiple prototypes are possible, job will be assigned randomly. \n",
    "    This could be improved and made smarter but is sufficient as a proof of concept.\n",
    "    :param J: List of job dictionaries\n",
    "    :param p: Dictionary of prototype objects to which jobs are assigned\n",
    "    :param suffix: Suffix to add to the prototype name (for duplicate prototypes)\n",
    "    :return: Returns list of unassigend jobs (because all possible prototypes are already occupied)\n",
    "    \"\"\"\n",
    "    unassigned_jobs=[]\n",
    "    for i, job in enumerate(J):\n",
    "        job['prototypes']\n",
    "        # Check if prototypes are available\n",
    "        possible_prototypes = []\n",
    "        for name in job['prototypes']:\n",
    "            if p[name + suffix].check_availability(job):\n",
    "                possible_prototypes.append(name)\n",
    "        if not possible_prototypes:\n",
    "            unassigned_jobs.append(job)\n",
    "        else:\n",
    "            # Randomly choose one possible prototype\n",
    "            final_prototype = possible_prototypes[random.randint(0, len(possible_prototypes)-1)]\n",
    "            p[final_prototype + suffix].append_job(job)\n",
    "    return unassigned_jobs\n"
   ]
  },
  {
   "cell_type": "code",
   "execution_count": 18,
   "metadata": {},
   "outputs": [],
   "source": [
    "class prototype():\n",
    "    \"\"\"\n",
    "    Prototype Class, stores schedule and information of individual prototypes\n",
    "    :param name: Name of prototype\n",
    "    :param df: data frame containing prototype info. Can be left empty\n",
    "    \"\"\"\n",
    "    def __init__(self, name, df=''):\n",
    "        self.name = name\n",
    "\n",
    "        self.jobs = []\n",
    "        self.occupied = []\n",
    "        self.dataFrame = df\n",
    "        \n",
    "    def append_job(self, job):\n",
    "        \"\"\"\n",
    "        Appends job to prototype if prototype is available during specified execution time of job\n",
    "        :param job: job to append\n",
    "        \"\"\"\n",
    "        if not self.check_availability(job):\n",
    "            raise TypeError\n",
    "        self.jobs.append([job['id'], job['begin'], job['duration'], job['begin'] + job['duration']])\n",
    "        self.occupied += list(range(job['begin'], job['begin'] + job['duration']))\n",
    "        self.occupied.sort()\n",
    "    \n",
    "    def check_availability(self, job):\n",
    "        \"\"\"\n",
    "        Checks if prototype is already occupied\n",
    "        :param job: job to check\n",
    "        :return: Returns True if prototype is available\n",
    "        \"\"\"\n",
    "        job_occupied = list(range(job['begin'], job['begin'] + job['duration']))\n",
    "        return not any(i in job_occupied for i in self.occupied)\n",
    "    "
   ]
  },
  {
   "cell_type": "code",
   "execution_count": 19,
   "metadata": {},
   "outputs": [],
   "source": [
    "# Scheduling Function\n",
    "def schedule(Jobs_temp, relevant_clomuns, iterations=1):\n",
    "    \"\"\"\n",
    "    Functions wich creates a schedule for given jobs. First all jobs are clustered into similar jobs, which could run on the same prototype. \n",
    "    Then, a prototype is created for each cluster. Finally, jobs are assigned to each prototype with a greedy scheduling function, which first assigns jobs with the lowest amount of possible prototypes.\n",
    "    If a job cannot be assigned because all the possible slots are already occupied, the necessary prototype is duplicated. \n",
    "    Due to the random nature of this scheduling, the output of this function can differ when called multiple times. By increasing the amount of iterations however, this randomness can be minimized.\n",
    "    :param Jobs_temp: Data-frame of jobs\n",
    "    :param relevant_columns: List of column names which are relevant for the prototype creation\n",
    "    :param iterations: Number of types the greedy scheduling should be performed. Schedule with lowest amount of prototypes will be kept.\n",
    "    :return: Returns tuple of list of jobs and dictionary of prototype objects to which the job are assigned (schedule)\n",
    "    \"\"\"\n",
    "    \n",
    "    Jobs = Jobs_temp.copy(deep=True)\n",
    "    Prototypes = Jobs[relevant_columns]\n",
    "    \n",
    "    # Cluster similar jobs\n",
    "    prototypes_reduced = [Prototypes]\n",
    "    for column in Prototypes.columns:\n",
    "        prototypes_reduced = split_column(prototypes_reduced, column)\n",
    "\n",
    "    # Parse Start Date as a list of [year, calender week]\n",
    "    for i in Jobs.index:\n",
    "        f = Jobs['Start Date'][i]\n",
    "        k = f.split('CW')[1]\n",
    "        k = k.split(' ')     \n",
    "        Jobs['Start Date'][i] = k[::-1]\n",
    "\n",
    "    # Create list of jobs\n",
    "    J = [{'id': i, 'Department': Jobs['Department'][i], 'Titel': Jobs['Titel'][i],'phase': Jobs['Phase'][i], 'duration': int(Jobs['Duration'][i]), 'prototypes': [], 'daterange': Jobs['Start Date'][i]} for i in Jobs.index]\n",
    "\n",
    "    # Create prototype object for every prototype\n",
    "    p = dict()\n",
    "    for i, df in enumerate(prototypes_reduced):\n",
    "        name = 'P{:02d}'.format(i+1)\n",
    "        p[name]=prototype(name, df)\n",
    "    \n",
    "    # Add possible prototypes to  each job injob list\n",
    "    for i in range(len(J)):\n",
    "        for key, value in p.items():\n",
    "            if J[i]['id'] in value.dataFrame.index:\n",
    "                J[i]['prototypes'].append(value.name)\n",
    "    \n",
    "    # Sort Jobs by starting time\n",
    "    J.sort(key=get_KW)\n",
    "    # Convert calender weeks to integer numbers\n",
    "    start = J[0].get('daterange')\n",
    "    for i, job in enumerate(J):\n",
    "        if int(job['daterange'][0]) > int(start[0]):\n",
    "            # Add Schaltyear here\n",
    "            J[i]['begin'] = int(job['daterange'][1]) + (52-int(start[1])) + 52*(int(job['daterange'][0])-int(start[0])-1)\n",
    "        else:\n",
    "            J[i]['begin'] = int(job['daterange'][1]) - int(start[1])\n",
    "    \n",
    "    # Sort jobs by number of possible prototypes\n",
    "    J.sort(key=get_num_prototypes)\n",
    "    \n",
    "    p_list = []  \n",
    "    \n",
    "    # Try greedy sheduling multiple times and keep best result\n",
    "    for j in range(iterations):\n",
    "        \n",
    "        p_list.append(copy.deepcopy(p))\n",
    "        \n",
    "        unassigned_jobs = greedy_scheduling(J, p_list[j])\n",
    "        \n",
    "        p_new = dict()\n",
    "        m = 1\n",
    "        while unassigned_jobs:\n",
    "            needed_prototypes = {}\n",
    "            for i in unassigned_jobs:\n",
    "                l = i['prototypes']\n",
    "                for k in l:\n",
    "                    if k in needed_prototypes:\n",
    "                        needed_prototypes[k] += 1\n",
    "                    else:\n",
    "                        needed_prototypes[k] = 1\n",
    "\n",
    "            for key, value in needed_prototypes.items():\n",
    "                name = key+(\"*\"*m)\n",
    "                p_new[name]=prototype(name, 'Duplicate')\n",
    "\n",
    "            unassigned_jobs = greedy_scheduling(unassigned_jobs, p_new, (\"*\"*m))\n",
    "            m += 1\n",
    "            \n",
    "        p_list[j] = p_list[j] | p_new\n",
    "        p_list[j] = {k: v for k, v in p_list[j].items() if v.jobs}\n",
    "            \n",
    "    p = min(p_list, key=len)\n",
    "    \n",
    "    return J, p"
   ]
  },
  {
   "cell_type": "code",
   "execution_count": 20,
   "metadata": {},
   "outputs": [
    {
     "name": "stderr",
     "output_type": "stream",
     "text": [
      "<ipython-input-19-bc3f5ed3e386>:27: SettingWithCopyWarning:\n",
      "\n",
      "\n",
      "A value is trying to be set on a copy of a slice from a DataFrame\n",
      "\n",
      "See the caveats in the documentation: https://pandas.pydata.org/pandas-docs/stable/user_guide/indexing.html#returning-a-view-versus-a-copy\n",
      "\n"
     ]
    }
   ],
   "source": [
    "relevant_columns = ['Part 1', 'Part 2', 'Part 3', 'Part 4', 'Part 5', 'Part 6']\n",
    "J_alpha, p_alpha = schedule(jobs_alpha, relevant_columns, 5)\n",
    "J_beta, p_beta = schedule(jobs_beta, relevant_columns, 5)\n",
    "J_gamma, p_gamma = schedule(jobs_gamma, relevant_columns, 5)\n",
    "J_delta, p_delta = schedule(jobs_delta, relevant_columns, 5)"
   ]
  },
  {
   "cell_type": "code",
   "execution_count": 21,
   "metadata": {},
   "outputs": [],
   "source": [
    "def plot_list_gen(J, p):\n",
    "    \"\"\"\n",
    "    Parses data returned by schedule-function into list that can be plotted by plotly express\n",
    "    :param J: List of job-dicionaries\n",
    "    :param p: Dictionary of prototype objects\n",
    "    :return: Returns list of dictionaries for each assigned job\n",
    "    \"\"\"\n",
    "    prot_list= []\n",
    "    for key, value in p.items():\n",
    "        for k in value.jobs:\n",
    "            job_dict = next(item for item in J if item[\"id\"] == k[0])\n",
    "            phase = job_dict['phase']\n",
    "            id_num = job_dict['id']\n",
    "            year = int(job_dict['daterange'][0])\n",
    "            week = int(job_dict['daterange'][1])\n",
    "            duration = job_dict['duration']\n",
    "            titel = job_dict['Titel']\n",
    "            poss_prots = job_dict['prototypes']\n",
    "            department = job_dict['Department']\n",
    "            if week + duration > 52:\n",
    "                final_year = year + 1\n",
    "                final_week = week + duration - 52\n",
    "            else:\n",
    "                final_year = year\n",
    "                final_week = week + duration            \n",
    "            prot_list.append(dict(Prototyp=value.name, Possible_prototypes=poss_prots, Duration=duration, Department=department, ID=id_num, Phase=phase, Titel=str(id_num) + \"_\" + titel, Start=date.fromisocalendar(year, week, 1), Finish=date.fromisocalendar(final_year, final_week, 1)))\n",
    "    \n",
    "    return prot_list"
   ]
  },
  {
   "cell_type": "code",
   "execution_count": 22,
   "metadata": {},
   "outputs": [],
   "source": [
    "def plot_schedule(J, p, name=''):\n",
    "    \"\"\"\n",
    "    Plots schedule with plotly\n",
    "    :param J: List of job-dicionaries\n",
    "    :param p: Dictionary of prototype objects\n",
    "    :param name: Name that is put into title\n",
    "    \"\"\"\n",
    "    prot_list = plot_list_gen(J, p)\n",
    "    df = pd.DataFrame(prot_list)\n",
    "\n",
    "    fig = px.timeline(df, title=\"Scheduling {}-Phase\".format(name),x_start=\"Start\", x_end=\"Finish\", y=\"Prototyp\", color=\"Department\", hover_name='Titel', hover_data=[\"ID\", \"Phase\", \"Duration\", \"Possible_prototypes\"])\n",
    "    #fig = fig.full_figure_for_development(warn=False)\n",
    "    #fig.layout.barmode = \"group\"\n",
    "    fig.update_yaxes(automargin=True, categoryorder=\"category descending\")\n",
    "    fig.update_layout(height=10*len(prot_list)+300)\n",
    "    #fig.update_yaxes(type=\"category\")\n",
    "    fig.show()\n",
    "    \n",
    "    print('Number of orders: {} \\nNumber of calculated prototypes: {} \\n'.format(len(J), len(p)))\n",
    "    \n",
    "    for key, value in p.items():\n",
    "        print(key)\n",
    "        display(value.dataFrame)"
   ]
  },
  {
   "cell_type": "code",
   "execution_count": 23,
   "metadata": {},
   "outputs": [
    {
     "data": {
      "application/vnd.plotly.v1+json": {
       "config": {
        "plotlyServerURL": "https://plot.ly"
       },
       "data": [
        {
         "alignmentgroup": "True",
         "base": [
          "2017-10-30"
         ],
         "customdata": [
          [
           16,
           "Alpha",
           16,
           [
            "P01"
           ]
          ]
         ],
         "hovertemplate": "<b>%{hovertext}</b><br><br>Department=C<br>Start=%{base}<br>Finish=%{x}<br>Prototyp=%{y}<br>ID=%{customdata[0]}<br>Phase=%{customdata[1]}<br>Duration=%{customdata[2]}<br>Possible_prototypes=%{customdata[3]}<extra></extra>",
         "hovertext": [
          "16_Test 10"
         ],
         "legendgroup": "C",
         "marker": {
          "color": "#636efa"
         },
         "name": "C",
         "offsetgroup": "C",
         "orientation": "h",
         "showlegend": true,
         "textposition": "auto",
         "type": "bar",
         "x": [
          9676800000
         ],
         "xaxis": "x",
         "y": [
          "P01"
         ],
         "yaxis": "y"
        },
        {
         "alignmentgroup": "True",
         "base": [
          "2017-09-18",
          "2018-04-09",
          "2018-01-15",
          "2018-04-09",
          "2018-07-09",
          "2018-08-13",
          "2018-02-19",
          "2017-10-23",
          "2018-08-13",
          "2018-05-14",
          "2017-09-18",
          "2018-05-14",
          "2018-07-09",
          "2018-02-19",
          "2018-01-15"
         ],
         "customdata": [
          [
           62,
           "Alpha",
           3,
           [
            "P02"
           ]
          ],
          [
           69,
           "Alpha",
           3,
           [
            "P02"
           ]
          ],
          [
           65,
           "Alpha",
           3,
           [
            "P02"
           ]
          ],
          [
           68,
           "Alpha",
           3,
           [
            "P04"
           ]
          ],
          [
           72,
           "Alpha",
           3,
           [
            "P04"
           ]
          ],
          [
           74,
           "Alpha",
           3,
           [
            "P05"
           ]
          ],
          [
           66,
           "Alpha",
           3,
           [
            "P05"
           ]
          ],
          [
           63,
           "Alpha",
           3,
           [
            "P07"
           ]
          ],
          [
           75,
           "Alpha",
           3,
           [
            "P07"
           ]
          ],
          [
           71,
           "Alpha",
           3,
           [
            "P10"
           ]
          ],
          [
           61,
           "Alpha",
           3,
           [
            "P11"
           ]
          ],
          [
           70,
           "Alpha",
           3,
           [
            "P12"
           ]
          ],
          [
           73,
           "Alpha",
           3,
           [
            "P13"
           ]
          ],
          [
           67,
           "Alpha",
           3,
           [
            "P14"
           ]
          ],
          [
           64,
           "Alpha",
           3,
           [
            "P11"
           ]
          ]
         ],
         "hovertemplate": "<b>%{hovertext}</b><br><br>Department=I<br>Start=%{base}<br>Finish=%{x}<br>Prototyp=%{y}<br>ID=%{customdata[0]}<br>Phase=%{customdata[1]}<br>Duration=%{customdata[2]}<br>Possible_prototypes=%{customdata[3]}<extra></extra>",
         "hovertext": [
          "62_Test 27",
          "69_Test 27",
          "65_Test 27",
          "68_Test 27",
          "72_Test 27",
          "74_Test 27",
          "66_Test 27",
          "63_Test 27",
          "75_Test 28",
          "71_Test 27",
          "61_Test 27",
          "70_Test 27",
          "73_Test 27",
          "67_Test 27",
          "64_Test 27"
         ],
         "legendgroup": "I",
         "marker": {
          "color": "#EF553B"
         },
         "name": "I",
         "offsetgroup": "I",
         "orientation": "h",
         "showlegend": true,
         "textposition": "auto",
         "type": "bar",
         "x": [
          1814400000,
          1814400000,
          1814400000,
          1814400000,
          1814400000,
          1814400000,
          1814400000,
          1814400000,
          1814400000,
          1814400000,
          1814400000,
          1814400000,
          1814400000,
          1814400000,
          1814400000
         ],
         "xaxis": "x",
         "y": [
          "P02",
          "P02",
          "P02",
          "P04",
          "P04",
          "P05",
          "P05",
          "P07",
          "P07",
          "P10",
          "P11",
          "P12",
          "P13",
          "P14",
          "P11*"
         ],
         "yaxis": "y"
        },
        {
         "alignmentgroup": "True",
         "base": [
          "2018-02-19",
          "2018-01-15",
          "2018-04-09",
          "2018-07-09",
          "2017-09-18",
          "2017-09-18",
          "2017-10-23"
         ],
         "customdata": [
          [
           96,
           "Alpha",
           3,
           [
            "P02"
           ]
          ],
          [
           95,
           "Alpha",
           3,
           [
            "P04"
           ]
          ],
          [
           97,
           "Alpha",
           3,
           [
            "P05"
           ]
          ],
          [
           98,
           "Alpha",
           3,
           [
            "P15"
           ]
          ],
          [
           92,
           "Alpha",
           3,
           [
            "P11"
           ]
          ],
          [
           93,
           "Alpha",
           3,
           [
            "P02"
           ]
          ],
          [
           94,
           "Alpha",
           3,
           [
            "P07"
           ]
          ]
         ],
         "hovertemplate": "<b>%{hovertext}</b><br><br>Department=J<br>Start=%{base}<br>Finish=%{x}<br>Prototyp=%{y}<br>ID=%{customdata[0]}<br>Phase=%{customdata[1]}<br>Duration=%{customdata[2]}<br>Possible_prototypes=%{customdata[3]}<extra></extra>",
         "hovertext": [
          "96_Test 28",
          "95_Test 28",
          "97_Test 28",
          "98_Test 28",
          "92_Test 28",
          "93_Test 28",
          "94_Test 28"
         ],
         "legendgroup": "J",
         "marker": {
          "color": "#00cc96"
         },
         "name": "J",
         "offsetgroup": "J",
         "orientation": "h",
         "showlegend": true,
         "textposition": "auto",
         "type": "bar",
         "x": [
          1814400000,
          1814400000,
          1814400000,
          1814400000,
          1814400000,
          1814400000,
          1814400000
         ],
         "xaxis": "x",
         "y": [
          "P02",
          "P04",
          "P05",
          "P15",
          "P11*",
          "P02*",
          "P07*"
         ],
         "yaxis": "y"
        },
        {
         "alignmentgroup": "True",
         "base": [
          "2018-01-15",
          "2018-03-26",
          "2018-05-07",
          "2018-07-02",
          "2018-09-10",
          "2018-01-15",
          "2018-01-15"
         ],
         "customdata": [
          [
           55,
           "Alpha",
           6,
           [
            "P03"
           ]
          ],
          [
           49,
           "Alpha",
           5,
           [
            "P03",
            "P04"
           ]
          ],
          [
           50,
           "Alpha",
           4,
           [
            "P03",
            "P04"
           ]
          ],
          [
           51,
           "Alpha",
           8,
           [
            "P03",
            "P04"
           ]
          ],
          [
           52,
           "Alpha",
           8,
           [
            "P03",
            "P04"
           ]
          ],
          [
           56,
           "Alpha",
           6,
           [
            "P06"
           ]
          ],
          [
           48,
           "Alpha",
           8,
           [
            "P03",
            "P04"
           ]
          ]
         ],
         "hovertemplate": "<b>%{hovertext}</b><br><br>Department=H<br>Start=%{base}<br>Finish=%{x}<br>Prototyp=%{y}<br>ID=%{customdata[0]}<br>Phase=%{customdata[1]}<br>Duration=%{customdata[2]}<br>Possible_prototypes=%{customdata[3]}<extra></extra>",
         "hovertext": [
          "55_Test 26",
          "49_Test 24",
          "50_Test 24",
          "51_Test 25",
          "52_Test 25",
          "56_Test 26",
          "48_Test 24"
         ],
         "legendgroup": "H",
         "marker": {
          "color": "#ab63fa"
         },
         "name": "H",
         "offsetgroup": "H",
         "orientation": "h",
         "showlegend": true,
         "textposition": "auto",
         "type": "bar",
         "x": [
          3628800000,
          3024000000,
          2419200000,
          4838400000,
          4838400000,
          3628800000,
          4838400000
         ],
         "xaxis": "x",
         "y": [
          "P03",
          "P03",
          "P03",
          "P03",
          "P04",
          "P06",
          "P03*"
         ],
         "yaxis": "y"
        },
        {
         "alignmentgroup": "True",
         "base": [
          "2017-12-11",
          "2017-12-11",
          "2017-12-11",
          "2017-12-11",
          "2017-12-11"
         ],
         "customdata": [
          [
           1,
           "Alpha",
           22,
           [
            "P06",
            "P07"
           ]
          ],
          [
           3,
           "Alpha",
           8,
           [
            "P08"
           ]
          ],
          [
           4,
           "Alpha",
           6,
           [
            "P09"
           ]
          ],
          [
           0,
           "Alpha",
           22,
           [
            "P01",
            "P02"
           ]
          ],
          [
           2,
           "Alpha",
           8,
           [
            "P03",
            "P04"
           ]
          ]
         ],
         "hovertemplate": "<b>%{hovertext}</b><br><br>Department=A<br>Start=%{base}<br>Finish=%{x}<br>Prototyp=%{y}<br>ID=%{customdata[0]}<br>Phase=%{customdata[1]}<br>Duration=%{customdata[2]}<br>Possible_prototypes=%{customdata[3]}<extra></extra>",
         "hovertext": [
          "1_Test 1",
          "3_Test 2",
          "4_Test 3",
          "0_Test 1",
          "2_Test 2"
         ],
         "legendgroup": "A",
         "marker": {
          "color": "#FFA15A"
         },
         "name": "A",
         "offsetgroup": "A",
         "orientation": "h",
         "showlegend": true,
         "textposition": "auto",
         "type": "bar",
         "x": [
          13305600000,
          4838400000,
          3628800000,
          13305600000,
          4838400000
         ],
         "xaxis": "x",
         "y": [
          "P07",
          "P08",
          "P09",
          "P02*",
          "P04*"
         ],
         "yaxis": "y"
        },
        {
         "alignmentgroup": "True",
         "base": [
          "2017-10-09",
          "2017-10-02"
         ],
         "customdata": [
          [
           32,
           "Alpha",
           20,
           [
            "P11"
           ]
          ],
          [
           31,
           "Alpha",
           20,
           [
            "P06",
            "P07"
           ]
          ]
         ],
         "hovertemplate": "<b>%{hovertext}</b><br><br>Department=D<br>Start=%{base}<br>Finish=%{x}<br>Prototyp=%{y}<br>ID=%{customdata[0]}<br>Phase=%{customdata[1]}<br>Duration=%{customdata[2]}<br>Possible_prototypes=%{customdata[3]}<extra></extra>",
         "hovertext": [
          "32_Test 20",
          "31_Test 20"
         ],
         "legendgroup": "D",
         "marker": {
          "color": "#19d3f3"
         },
         "name": "D",
         "offsetgroup": "D",
         "orientation": "h",
         "showlegend": true,
         "textposition": "auto",
         "type": "bar",
         "x": [
          12096000000,
          12096000000
         ],
         "xaxis": "x",
         "y": [
          "P11",
          "P06*"
         ],
         "yaxis": "y"
        }
       ],
       "layout": {
        "barmode": "overlay",
        "height": 670,
        "legend": {
         "title": {
          "text": "Department"
         },
         "tracegroupgap": 0
        },
        "template": {
         "data": {
          "bar": [
           {
            "error_x": {
             "color": "#2a3f5f"
            },
            "error_y": {
             "color": "#2a3f5f"
            },
            "marker": {
             "line": {
              "color": "#E5ECF6",
              "width": 0.5
             },
             "pattern": {
              "fillmode": "overlay",
              "size": 10,
              "solidity": 0.2
             }
            },
            "type": "bar"
           }
          ],
          "barpolar": [
           {
            "marker": {
             "line": {
              "color": "#E5ECF6",
              "width": 0.5
             },
             "pattern": {
              "fillmode": "overlay",
              "size": 10,
              "solidity": 0.2
             }
            },
            "type": "barpolar"
           }
          ],
          "carpet": [
           {
            "aaxis": {
             "endlinecolor": "#2a3f5f",
             "gridcolor": "white",
             "linecolor": "white",
             "minorgridcolor": "white",
             "startlinecolor": "#2a3f5f"
            },
            "baxis": {
             "endlinecolor": "#2a3f5f",
             "gridcolor": "white",
             "linecolor": "white",
             "minorgridcolor": "white",
             "startlinecolor": "#2a3f5f"
            },
            "type": "carpet"
           }
          ],
          "choropleth": [
           {
            "colorbar": {
             "outlinewidth": 0,
             "ticks": ""
            },
            "type": "choropleth"
           }
          ],
          "contour": [
           {
            "colorbar": {
             "outlinewidth": 0,
             "ticks": ""
            },
            "colorscale": [
             [
              0,
              "#0d0887"
             ],
             [
              0.1111111111111111,
              "#46039f"
             ],
             [
              0.2222222222222222,
              "#7201a8"
             ],
             [
              0.3333333333333333,
              "#9c179e"
             ],
             [
              0.4444444444444444,
              "#bd3786"
             ],
             [
              0.5555555555555556,
              "#d8576b"
             ],
             [
              0.6666666666666666,
              "#ed7953"
             ],
             [
              0.7777777777777778,
              "#fb9f3a"
             ],
             [
              0.8888888888888888,
              "#fdca26"
             ],
             [
              1,
              "#f0f921"
             ]
            ],
            "type": "contour"
           }
          ],
          "contourcarpet": [
           {
            "colorbar": {
             "outlinewidth": 0,
             "ticks": ""
            },
            "type": "contourcarpet"
           }
          ],
          "heatmap": [
           {
            "colorbar": {
             "outlinewidth": 0,
             "ticks": ""
            },
            "colorscale": [
             [
              0,
              "#0d0887"
             ],
             [
              0.1111111111111111,
              "#46039f"
             ],
             [
              0.2222222222222222,
              "#7201a8"
             ],
             [
              0.3333333333333333,
              "#9c179e"
             ],
             [
              0.4444444444444444,
              "#bd3786"
             ],
             [
              0.5555555555555556,
              "#d8576b"
             ],
             [
              0.6666666666666666,
              "#ed7953"
             ],
             [
              0.7777777777777778,
              "#fb9f3a"
             ],
             [
              0.8888888888888888,
              "#fdca26"
             ],
             [
              1,
              "#f0f921"
             ]
            ],
            "type": "heatmap"
           }
          ],
          "heatmapgl": [
           {
            "colorbar": {
             "outlinewidth": 0,
             "ticks": ""
            },
            "colorscale": [
             [
              0,
              "#0d0887"
             ],
             [
              0.1111111111111111,
              "#46039f"
             ],
             [
              0.2222222222222222,
              "#7201a8"
             ],
             [
              0.3333333333333333,
              "#9c179e"
             ],
             [
              0.4444444444444444,
              "#bd3786"
             ],
             [
              0.5555555555555556,
              "#d8576b"
             ],
             [
              0.6666666666666666,
              "#ed7953"
             ],
             [
              0.7777777777777778,
              "#fb9f3a"
             ],
             [
              0.8888888888888888,
              "#fdca26"
             ],
             [
              1,
              "#f0f921"
             ]
            ],
            "type": "heatmapgl"
           }
          ],
          "histogram": [
           {
            "marker": {
             "pattern": {
              "fillmode": "overlay",
              "size": 10,
              "solidity": 0.2
             }
            },
            "type": "histogram"
           }
          ],
          "histogram2d": [
           {
            "colorbar": {
             "outlinewidth": 0,
             "ticks": ""
            },
            "colorscale": [
             [
              0,
              "#0d0887"
             ],
             [
              0.1111111111111111,
              "#46039f"
             ],
             [
              0.2222222222222222,
              "#7201a8"
             ],
             [
              0.3333333333333333,
              "#9c179e"
             ],
             [
              0.4444444444444444,
              "#bd3786"
             ],
             [
              0.5555555555555556,
              "#d8576b"
             ],
             [
              0.6666666666666666,
              "#ed7953"
             ],
             [
              0.7777777777777778,
              "#fb9f3a"
             ],
             [
              0.8888888888888888,
              "#fdca26"
             ],
             [
              1,
              "#f0f921"
             ]
            ],
            "type": "histogram2d"
           }
          ],
          "histogram2dcontour": [
           {
            "colorbar": {
             "outlinewidth": 0,
             "ticks": ""
            },
            "colorscale": [
             [
              0,
              "#0d0887"
             ],
             [
              0.1111111111111111,
              "#46039f"
             ],
             [
              0.2222222222222222,
              "#7201a8"
             ],
             [
              0.3333333333333333,
              "#9c179e"
             ],
             [
              0.4444444444444444,
              "#bd3786"
             ],
             [
              0.5555555555555556,
              "#d8576b"
             ],
             [
              0.6666666666666666,
              "#ed7953"
             ],
             [
              0.7777777777777778,
              "#fb9f3a"
             ],
             [
              0.8888888888888888,
              "#fdca26"
             ],
             [
              1,
              "#f0f921"
             ]
            ],
            "type": "histogram2dcontour"
           }
          ],
          "mesh3d": [
           {
            "colorbar": {
             "outlinewidth": 0,
             "ticks": ""
            },
            "type": "mesh3d"
           }
          ],
          "parcoords": [
           {
            "line": {
             "colorbar": {
              "outlinewidth": 0,
              "ticks": ""
             }
            },
            "type": "parcoords"
           }
          ],
          "pie": [
           {
            "automargin": true,
            "type": "pie"
           }
          ],
          "scatter": [
           {
            "marker": {
             "colorbar": {
              "outlinewidth": 0,
              "ticks": ""
             }
            },
            "type": "scatter"
           }
          ],
          "scatter3d": [
           {
            "line": {
             "colorbar": {
              "outlinewidth": 0,
              "ticks": ""
             }
            },
            "marker": {
             "colorbar": {
              "outlinewidth": 0,
              "ticks": ""
             }
            },
            "type": "scatter3d"
           }
          ],
          "scattercarpet": [
           {
            "marker": {
             "colorbar": {
              "outlinewidth": 0,
              "ticks": ""
             }
            },
            "type": "scattercarpet"
           }
          ],
          "scattergeo": [
           {
            "marker": {
             "colorbar": {
              "outlinewidth": 0,
              "ticks": ""
             }
            },
            "type": "scattergeo"
           }
          ],
          "scattergl": [
           {
            "marker": {
             "colorbar": {
              "outlinewidth": 0,
              "ticks": ""
             }
            },
            "type": "scattergl"
           }
          ],
          "scattermapbox": [
           {
            "marker": {
             "colorbar": {
              "outlinewidth": 0,
              "ticks": ""
             }
            },
            "type": "scattermapbox"
           }
          ],
          "scatterpolar": [
           {
            "marker": {
             "colorbar": {
              "outlinewidth": 0,
              "ticks": ""
             }
            },
            "type": "scatterpolar"
           }
          ],
          "scatterpolargl": [
           {
            "marker": {
             "colorbar": {
              "outlinewidth": 0,
              "ticks": ""
             }
            },
            "type": "scatterpolargl"
           }
          ],
          "scatterternary": [
           {
            "marker": {
             "colorbar": {
              "outlinewidth": 0,
              "ticks": ""
             }
            },
            "type": "scatterternary"
           }
          ],
          "surface": [
           {
            "colorbar": {
             "outlinewidth": 0,
             "ticks": ""
            },
            "colorscale": [
             [
              0,
              "#0d0887"
             ],
             [
              0.1111111111111111,
              "#46039f"
             ],
             [
              0.2222222222222222,
              "#7201a8"
             ],
             [
              0.3333333333333333,
              "#9c179e"
             ],
             [
              0.4444444444444444,
              "#bd3786"
             ],
             [
              0.5555555555555556,
              "#d8576b"
             ],
             [
              0.6666666666666666,
              "#ed7953"
             ],
             [
              0.7777777777777778,
              "#fb9f3a"
             ],
             [
              0.8888888888888888,
              "#fdca26"
             ],
             [
              1,
              "#f0f921"
             ]
            ],
            "type": "surface"
           }
          ],
          "table": [
           {
            "cells": {
             "fill": {
              "color": "#EBF0F8"
             },
             "line": {
              "color": "white"
             }
            },
            "header": {
             "fill": {
              "color": "#C8D4E3"
             },
             "line": {
              "color": "white"
             }
            },
            "type": "table"
           }
          ]
         },
         "layout": {
          "annotationdefaults": {
           "arrowcolor": "#2a3f5f",
           "arrowhead": 0,
           "arrowwidth": 1
          },
          "autotypenumbers": "strict",
          "coloraxis": {
           "colorbar": {
            "outlinewidth": 0,
            "ticks": ""
           }
          },
          "colorscale": {
           "diverging": [
            [
             0,
             "#8e0152"
            ],
            [
             0.1,
             "#c51b7d"
            ],
            [
             0.2,
             "#de77ae"
            ],
            [
             0.3,
             "#f1b6da"
            ],
            [
             0.4,
             "#fde0ef"
            ],
            [
             0.5,
             "#f7f7f7"
            ],
            [
             0.6,
             "#e6f5d0"
            ],
            [
             0.7,
             "#b8e186"
            ],
            [
             0.8,
             "#7fbc41"
            ],
            [
             0.9,
             "#4d9221"
            ],
            [
             1,
             "#276419"
            ]
           ],
           "sequential": [
            [
             0,
             "#0d0887"
            ],
            [
             0.1111111111111111,
             "#46039f"
            ],
            [
             0.2222222222222222,
             "#7201a8"
            ],
            [
             0.3333333333333333,
             "#9c179e"
            ],
            [
             0.4444444444444444,
             "#bd3786"
            ],
            [
             0.5555555555555556,
             "#d8576b"
            ],
            [
             0.6666666666666666,
             "#ed7953"
            ],
            [
             0.7777777777777778,
             "#fb9f3a"
            ],
            [
             0.8888888888888888,
             "#fdca26"
            ],
            [
             1,
             "#f0f921"
            ]
           ],
           "sequentialminus": [
            [
             0,
             "#0d0887"
            ],
            [
             0.1111111111111111,
             "#46039f"
            ],
            [
             0.2222222222222222,
             "#7201a8"
            ],
            [
             0.3333333333333333,
             "#9c179e"
            ],
            [
             0.4444444444444444,
             "#bd3786"
            ],
            [
             0.5555555555555556,
             "#d8576b"
            ],
            [
             0.6666666666666666,
             "#ed7953"
            ],
            [
             0.7777777777777778,
             "#fb9f3a"
            ],
            [
             0.8888888888888888,
             "#fdca26"
            ],
            [
             1,
             "#f0f921"
            ]
           ]
          },
          "colorway": [
           "#636efa",
           "#EF553B",
           "#00cc96",
           "#ab63fa",
           "#FFA15A",
           "#19d3f3",
           "#FF6692",
           "#B6E880",
           "#FF97FF",
           "#FECB52"
          ],
          "font": {
           "color": "#2a3f5f"
          },
          "geo": {
           "bgcolor": "white",
           "lakecolor": "white",
           "landcolor": "#E5ECF6",
           "showlakes": true,
           "showland": true,
           "subunitcolor": "white"
          },
          "hoverlabel": {
           "align": "left"
          },
          "hovermode": "closest",
          "mapbox": {
           "style": "light"
          },
          "paper_bgcolor": "white",
          "plot_bgcolor": "#E5ECF6",
          "polar": {
           "angularaxis": {
            "gridcolor": "white",
            "linecolor": "white",
            "ticks": ""
           },
           "bgcolor": "#E5ECF6",
           "radialaxis": {
            "gridcolor": "white",
            "linecolor": "white",
            "ticks": ""
           }
          },
          "scene": {
           "xaxis": {
            "backgroundcolor": "#E5ECF6",
            "gridcolor": "white",
            "gridwidth": 2,
            "linecolor": "white",
            "showbackground": true,
            "ticks": "",
            "zerolinecolor": "white"
           },
           "yaxis": {
            "backgroundcolor": "#E5ECF6",
            "gridcolor": "white",
            "gridwidth": 2,
            "linecolor": "white",
            "showbackground": true,
            "ticks": "",
            "zerolinecolor": "white"
           },
           "zaxis": {
            "backgroundcolor": "#E5ECF6",
            "gridcolor": "white",
            "gridwidth": 2,
            "linecolor": "white",
            "showbackground": true,
            "ticks": "",
            "zerolinecolor": "white"
           }
          },
          "shapedefaults": {
           "line": {
            "color": "#2a3f5f"
           }
          },
          "ternary": {
           "aaxis": {
            "gridcolor": "white",
            "linecolor": "white",
            "ticks": ""
           },
           "baxis": {
            "gridcolor": "white",
            "linecolor": "white",
            "ticks": ""
           },
           "bgcolor": "#E5ECF6",
           "caxis": {
            "gridcolor": "white",
            "linecolor": "white",
            "ticks": ""
           }
          },
          "title": {
           "x": 0.05
          },
          "xaxis": {
           "automargin": true,
           "gridcolor": "white",
           "linecolor": "white",
           "ticks": "",
           "title": {
            "standoff": 15
           },
           "zerolinecolor": "white",
           "zerolinewidth": 2
          },
          "yaxis": {
           "automargin": true,
           "gridcolor": "white",
           "linecolor": "white",
           "ticks": "",
           "title": {
            "standoff": 15
           },
           "zerolinecolor": "white",
           "zerolinewidth": 2
          }
         }
        },
        "title": {
         "text": "Scheduling Alpha-Phase"
        },
        "xaxis": {
         "anchor": "y",
         "domain": [
          0,
          1
         ],
         "type": "date"
        },
        "yaxis": {
         "anchor": "x",
         "automargin": true,
         "categoryorder": "category descending",
         "domain": [
          0,
          1
         ],
         "title": {
          "text": "Prototyp"
         }
        }
       }
      }
     },
     "metadata": {},
     "output_type": "display_data"
    },
    {
     "name": "stdout",
     "output_type": "stream",
     "text": [
      "Number of orders: 37 \n",
      "Number of calculated prototypes: 21 \n",
      "\n",
      "P01\n"
     ]
    },
    {
     "data": {
      "text/html": [
       "<div>\n",
       "<style scoped>\n",
       "    .dataframe tbody tr th:only-of-type {\n",
       "        vertical-align: middle;\n",
       "    }\n",
       "\n",
       "    .dataframe tbody tr th {\n",
       "        vertical-align: top;\n",
       "    }\n",
       "\n",
       "    .dataframe thead th {\n",
       "        text-align: right;\n",
       "    }\n",
       "</style>\n",
       "<table border=\"1\" class=\"dataframe\">\n",
       "  <thead>\n",
       "    <tr style=\"text-align: right;\">\n",
       "      <th></th>\n",
       "      <th>Part 1</th>\n",
       "      <th>Part 2</th>\n",
       "      <th>Part 3</th>\n",
       "      <th>Part 4</th>\n",
       "      <th>Part 5</th>\n",
       "      <th>Part 6</th>\n",
       "    </tr>\n",
       "  </thead>\n",
       "  <tbody>\n",
       "    <tr>\n",
       "      <th>0</th>\n",
       "      <td>A</td>\n",
       "      <td>A</td>\n",
       "      <td>A</td>\n",
       "      <td>0</td>\n",
       "      <td>0</td>\n",
       "      <td>0</td>\n",
       "    </tr>\n",
       "    <tr>\n",
       "      <th>16</th>\n",
       "      <td>A</td>\n",
       "      <td>A</td>\n",
       "      <td>A</td>\n",
       "      <td>A</td>\n",
       "      <td>A</td>\n",
       "      <td>A</td>\n",
       "    </tr>\n",
       "  </tbody>\n",
       "</table>\n",
       "</div>"
      ],
      "text/plain": [
       "   Part 1 Part 2 Part 3 Part 4 Part 5 Part 6\n",
       "0       A      A      A      0      0      0\n",
       "16      A      A      A      A      A      A"
      ]
     },
     "metadata": {},
     "output_type": "display_data"
    },
    {
     "name": "stdout",
     "output_type": "stream",
     "text": [
      "P02\n"
     ]
    },
    {
     "data": {
      "text/html": [
       "<div>\n",
       "<style scoped>\n",
       "    .dataframe tbody tr th:only-of-type {\n",
       "        vertical-align: middle;\n",
       "    }\n",
       "\n",
       "    .dataframe tbody tr th {\n",
       "        vertical-align: top;\n",
       "    }\n",
       "\n",
       "    .dataframe thead th {\n",
       "        text-align: right;\n",
       "    }\n",
       "</style>\n",
       "<table border=\"1\" class=\"dataframe\">\n",
       "  <thead>\n",
       "    <tr style=\"text-align: right;\">\n",
       "      <th></th>\n",
       "      <th>Part 1</th>\n",
       "      <th>Part 2</th>\n",
       "      <th>Part 3</th>\n",
       "      <th>Part 4</th>\n",
       "      <th>Part 5</th>\n",
       "      <th>Part 6</th>\n",
       "    </tr>\n",
       "  </thead>\n",
       "  <tbody>\n",
       "    <tr>\n",
       "      <th>0</th>\n",
       "      <td>A</td>\n",
       "      <td>A</td>\n",
       "      <td>A</td>\n",
       "      <td>0</td>\n",
       "      <td>0</td>\n",
       "      <td>0</td>\n",
       "    </tr>\n",
       "    <tr>\n",
       "      <th>62</th>\n",
       "      <td>A</td>\n",
       "      <td>A</td>\n",
       "      <td>A</td>\n",
       "      <td>D</td>\n",
       "      <td>0</td>\n",
       "      <td>0</td>\n",
       "    </tr>\n",
       "    <tr>\n",
       "      <th>65</th>\n",
       "      <td>A</td>\n",
       "      <td>A</td>\n",
       "      <td>A</td>\n",
       "      <td>D</td>\n",
       "      <td>0</td>\n",
       "      <td>0</td>\n",
       "    </tr>\n",
       "    <tr>\n",
       "      <th>69</th>\n",
       "      <td>A</td>\n",
       "      <td>A</td>\n",
       "      <td>A</td>\n",
       "      <td>D</td>\n",
       "      <td>0</td>\n",
       "      <td>0</td>\n",
       "    </tr>\n",
       "    <tr>\n",
       "      <th>93</th>\n",
       "      <td>A</td>\n",
       "      <td>A</td>\n",
       "      <td>A</td>\n",
       "      <td>D</td>\n",
       "      <td>0</td>\n",
       "      <td>0</td>\n",
       "    </tr>\n",
       "    <tr>\n",
       "      <th>96</th>\n",
       "      <td>A</td>\n",
       "      <td>A</td>\n",
       "      <td>A</td>\n",
       "      <td>D</td>\n",
       "      <td>0</td>\n",
       "      <td>0</td>\n",
       "    </tr>\n",
       "  </tbody>\n",
       "</table>\n",
       "</div>"
      ],
      "text/plain": [
       "   Part 1 Part 2 Part 3 Part 4 Part 5 Part 6\n",
       "0       A      A      A      0      0      0\n",
       "62      A      A      A      D      0      0\n",
       "65      A      A      A      D      0      0\n",
       "69      A      A      A      D      0      0\n",
       "93      A      A      A      D      0      0\n",
       "96      A      A      A      D      0      0"
      ]
     },
     "metadata": {},
     "output_type": "display_data"
    },
    {
     "name": "stdout",
     "output_type": "stream",
     "text": [
      "P03\n"
     ]
    },
    {
     "data": {
      "text/html": [
       "<div>\n",
       "<style scoped>\n",
       "    .dataframe tbody tr th:only-of-type {\n",
       "        vertical-align: middle;\n",
       "    }\n",
       "\n",
       "    .dataframe tbody tr th {\n",
       "        vertical-align: top;\n",
       "    }\n",
       "\n",
       "    .dataframe thead th {\n",
       "        text-align: right;\n",
       "    }\n",
       "</style>\n",
       "<table border=\"1\" class=\"dataframe\">\n",
       "  <thead>\n",
       "    <tr style=\"text-align: right;\">\n",
       "      <th></th>\n",
       "      <th>Part 1</th>\n",
       "      <th>Part 2</th>\n",
       "      <th>Part 3</th>\n",
       "      <th>Part 4</th>\n",
       "      <th>Part 5</th>\n",
       "      <th>Part 6</th>\n",
       "    </tr>\n",
       "  </thead>\n",
       "  <tbody>\n",
       "    <tr>\n",
       "      <th>2</th>\n",
       "      <td>A</td>\n",
       "      <td>A</td>\n",
       "      <td>B</td>\n",
       "      <td>0</td>\n",
       "      <td>0</td>\n",
       "      <td>0</td>\n",
       "    </tr>\n",
       "    <tr>\n",
       "      <th>48</th>\n",
       "      <td>A</td>\n",
       "      <td>A</td>\n",
       "      <td>B</td>\n",
       "      <td>0</td>\n",
       "      <td>0</td>\n",
       "      <td>0</td>\n",
       "    </tr>\n",
       "    <tr>\n",
       "      <th>49</th>\n",
       "      <td>A</td>\n",
       "      <td>A</td>\n",
       "      <td>B</td>\n",
       "      <td>0</td>\n",
       "      <td>0</td>\n",
       "      <td>0</td>\n",
       "    </tr>\n",
       "    <tr>\n",
       "      <th>50</th>\n",
       "      <td>A</td>\n",
       "      <td>A</td>\n",
       "      <td>B</td>\n",
       "      <td>0</td>\n",
       "      <td>0</td>\n",
       "      <td>0</td>\n",
       "    </tr>\n",
       "    <tr>\n",
       "      <th>51</th>\n",
       "      <td>A</td>\n",
       "      <td>A</td>\n",
       "      <td>B</td>\n",
       "      <td>0</td>\n",
       "      <td>0</td>\n",
       "      <td>0</td>\n",
       "    </tr>\n",
       "    <tr>\n",
       "      <th>52</th>\n",
       "      <td>A</td>\n",
       "      <td>A</td>\n",
       "      <td>B</td>\n",
       "      <td>0</td>\n",
       "      <td>0</td>\n",
       "      <td>0</td>\n",
       "    </tr>\n",
       "    <tr>\n",
       "      <th>55</th>\n",
       "      <td>A</td>\n",
       "      <td>A</td>\n",
       "      <td>B</td>\n",
       "      <td>C</td>\n",
       "      <td>0</td>\n",
       "      <td>0</td>\n",
       "    </tr>\n",
       "  </tbody>\n",
       "</table>\n",
       "</div>"
      ],
      "text/plain": [
       "   Part 1 Part 2 Part 3 Part 4 Part 5 Part 6\n",
       "2       A      A      B      0      0      0\n",
       "48      A      A      B      0      0      0\n",
       "49      A      A      B      0      0      0\n",
       "50      A      A      B      0      0      0\n",
       "51      A      A      B      0      0      0\n",
       "52      A      A      B      0      0      0\n",
       "55      A      A      B      C      0      0"
      ]
     },
     "metadata": {},
     "output_type": "display_data"
    },
    {
     "name": "stdout",
     "output_type": "stream",
     "text": [
      "P04\n"
     ]
    },
    {
     "data": {
      "text/html": [
       "<div>\n",
       "<style scoped>\n",
       "    .dataframe tbody tr th:only-of-type {\n",
       "        vertical-align: middle;\n",
       "    }\n",
       "\n",
       "    .dataframe tbody tr th {\n",
       "        vertical-align: top;\n",
       "    }\n",
       "\n",
       "    .dataframe thead th {\n",
       "        text-align: right;\n",
       "    }\n",
       "</style>\n",
       "<table border=\"1\" class=\"dataframe\">\n",
       "  <thead>\n",
       "    <tr style=\"text-align: right;\">\n",
       "      <th></th>\n",
       "      <th>Part 1</th>\n",
       "      <th>Part 2</th>\n",
       "      <th>Part 3</th>\n",
       "      <th>Part 4</th>\n",
       "      <th>Part 5</th>\n",
       "      <th>Part 6</th>\n",
       "    </tr>\n",
       "  </thead>\n",
       "  <tbody>\n",
       "    <tr>\n",
       "      <th>2</th>\n",
       "      <td>A</td>\n",
       "      <td>A</td>\n",
       "      <td>B</td>\n",
       "      <td>0</td>\n",
       "      <td>0</td>\n",
       "      <td>0</td>\n",
       "    </tr>\n",
       "    <tr>\n",
       "      <th>48</th>\n",
       "      <td>A</td>\n",
       "      <td>A</td>\n",
       "      <td>B</td>\n",
       "      <td>0</td>\n",
       "      <td>0</td>\n",
       "      <td>0</td>\n",
       "    </tr>\n",
       "    <tr>\n",
       "      <th>49</th>\n",
       "      <td>A</td>\n",
       "      <td>A</td>\n",
       "      <td>B</td>\n",
       "      <td>0</td>\n",
       "      <td>0</td>\n",
       "      <td>0</td>\n",
       "    </tr>\n",
       "    <tr>\n",
       "      <th>50</th>\n",
       "      <td>A</td>\n",
       "      <td>A</td>\n",
       "      <td>B</td>\n",
       "      <td>0</td>\n",
       "      <td>0</td>\n",
       "      <td>0</td>\n",
       "    </tr>\n",
       "    <tr>\n",
       "      <th>51</th>\n",
       "      <td>A</td>\n",
       "      <td>A</td>\n",
       "      <td>B</td>\n",
       "      <td>0</td>\n",
       "      <td>0</td>\n",
       "      <td>0</td>\n",
       "    </tr>\n",
       "    <tr>\n",
       "      <th>52</th>\n",
       "      <td>A</td>\n",
       "      <td>A</td>\n",
       "      <td>B</td>\n",
       "      <td>0</td>\n",
       "      <td>0</td>\n",
       "      <td>0</td>\n",
       "    </tr>\n",
       "    <tr>\n",
       "      <th>68</th>\n",
       "      <td>A</td>\n",
       "      <td>A</td>\n",
       "      <td>B</td>\n",
       "      <td>A</td>\n",
       "      <td>0</td>\n",
       "      <td>0</td>\n",
       "    </tr>\n",
       "    <tr>\n",
       "      <th>72</th>\n",
       "      <td>A</td>\n",
       "      <td>A</td>\n",
       "      <td>B</td>\n",
       "      <td>A</td>\n",
       "      <td>0</td>\n",
       "      <td>0</td>\n",
       "    </tr>\n",
       "    <tr>\n",
       "      <th>95</th>\n",
       "      <td>A</td>\n",
       "      <td>A</td>\n",
       "      <td>B</td>\n",
       "      <td>A</td>\n",
       "      <td>0</td>\n",
       "      <td>0</td>\n",
       "    </tr>\n",
       "  </tbody>\n",
       "</table>\n",
       "</div>"
      ],
      "text/plain": [
       "   Part 1 Part 2 Part 3 Part 4 Part 5 Part 6\n",
       "2       A      A      B      0      0      0\n",
       "48      A      A      B      0      0      0\n",
       "49      A      A      B      0      0      0\n",
       "50      A      A      B      0      0      0\n",
       "51      A      A      B      0      0      0\n",
       "52      A      A      B      0      0      0\n",
       "68      A      A      B      A      0      0\n",
       "72      A      A      B      A      0      0\n",
       "95      A      A      B      A      0      0"
      ]
     },
     "metadata": {},
     "output_type": "display_data"
    },
    {
     "name": "stdout",
     "output_type": "stream",
     "text": [
      "P05\n"
     ]
    },
    {
     "data": {
      "text/html": [
       "<div>\n",
       "<style scoped>\n",
       "    .dataframe tbody tr th:only-of-type {\n",
       "        vertical-align: middle;\n",
       "    }\n",
       "\n",
       "    .dataframe tbody tr th {\n",
       "        vertical-align: top;\n",
       "    }\n",
       "\n",
       "    .dataframe thead th {\n",
       "        text-align: right;\n",
       "    }\n",
       "</style>\n",
       "<table border=\"1\" class=\"dataframe\">\n",
       "  <thead>\n",
       "    <tr style=\"text-align: right;\">\n",
       "      <th></th>\n",
       "      <th>Part 1</th>\n",
       "      <th>Part 2</th>\n",
       "      <th>Part 3</th>\n",
       "      <th>Part 4</th>\n",
       "      <th>Part 5</th>\n",
       "      <th>Part 6</th>\n",
       "    </tr>\n",
       "  </thead>\n",
       "  <tbody>\n",
       "    <tr>\n",
       "      <th>66</th>\n",
       "      <td>A</td>\n",
       "      <td>A</td>\n",
       "      <td>D</td>\n",
       "      <td>C</td>\n",
       "      <td>0</td>\n",
       "      <td>0</td>\n",
       "    </tr>\n",
       "    <tr>\n",
       "      <th>74</th>\n",
       "      <td>A</td>\n",
       "      <td>A</td>\n",
       "      <td>D</td>\n",
       "      <td>C</td>\n",
       "      <td>0</td>\n",
       "      <td>0</td>\n",
       "    </tr>\n",
       "    <tr>\n",
       "      <th>97</th>\n",
       "      <td>A</td>\n",
       "      <td>A</td>\n",
       "      <td>D</td>\n",
       "      <td>C</td>\n",
       "      <td>0</td>\n",
       "      <td>0</td>\n",
       "    </tr>\n",
       "  </tbody>\n",
       "</table>\n",
       "</div>"
      ],
      "text/plain": [
       "   Part 1 Part 2 Part 3 Part 4 Part 5 Part 6\n",
       "66      A      A      D      C      0      0\n",
       "74      A      A      D      C      0      0\n",
       "97      A      A      D      C      0      0"
      ]
     },
     "metadata": {},
     "output_type": "display_data"
    },
    {
     "name": "stdout",
     "output_type": "stream",
     "text": [
      "P06\n"
     ]
    },
    {
     "data": {
      "text/html": [
       "<div>\n",
       "<style scoped>\n",
       "    .dataframe tbody tr th:only-of-type {\n",
       "        vertical-align: middle;\n",
       "    }\n",
       "\n",
       "    .dataframe tbody tr th {\n",
       "        vertical-align: top;\n",
       "    }\n",
       "\n",
       "    .dataframe thead th {\n",
       "        text-align: right;\n",
       "    }\n",
       "</style>\n",
       "<table border=\"1\" class=\"dataframe\">\n",
       "  <thead>\n",
       "    <tr style=\"text-align: right;\">\n",
       "      <th></th>\n",
       "      <th>Part 1</th>\n",
       "      <th>Part 2</th>\n",
       "      <th>Part 3</th>\n",
       "      <th>Part 4</th>\n",
       "      <th>Part 5</th>\n",
       "      <th>Part 6</th>\n",
       "    </tr>\n",
       "  </thead>\n",
       "  <tbody>\n",
       "    <tr>\n",
       "      <th>1</th>\n",
       "      <td>A</td>\n",
       "      <td>B</td>\n",
       "      <td>A</td>\n",
       "      <td>0</td>\n",
       "      <td>0</td>\n",
       "      <td>0</td>\n",
       "    </tr>\n",
       "    <tr>\n",
       "      <th>31</th>\n",
       "      <td>A</td>\n",
       "      <td>B</td>\n",
       "      <td>A</td>\n",
       "      <td>0</td>\n",
       "      <td>0</td>\n",
       "      <td>0</td>\n",
       "    </tr>\n",
       "    <tr>\n",
       "      <th>56</th>\n",
       "      <td>A</td>\n",
       "      <td>B</td>\n",
       "      <td>A</td>\n",
       "      <td>C</td>\n",
       "      <td>0</td>\n",
       "      <td>0</td>\n",
       "    </tr>\n",
       "  </tbody>\n",
       "</table>\n",
       "</div>"
      ],
      "text/plain": [
       "   Part 1 Part 2 Part 3 Part 4 Part 5 Part 6\n",
       "1       A      B      A      0      0      0\n",
       "31      A      B      A      0      0      0\n",
       "56      A      B      A      C      0      0"
      ]
     },
     "metadata": {},
     "output_type": "display_data"
    },
    {
     "name": "stdout",
     "output_type": "stream",
     "text": [
      "P07\n"
     ]
    },
    {
     "data": {
      "text/html": [
       "<div>\n",
       "<style scoped>\n",
       "    .dataframe tbody tr th:only-of-type {\n",
       "        vertical-align: middle;\n",
       "    }\n",
       "\n",
       "    .dataframe tbody tr th {\n",
       "        vertical-align: top;\n",
       "    }\n",
       "\n",
       "    .dataframe thead th {\n",
       "        text-align: right;\n",
       "    }\n",
       "</style>\n",
       "<table border=\"1\" class=\"dataframe\">\n",
       "  <thead>\n",
       "    <tr style=\"text-align: right;\">\n",
       "      <th></th>\n",
       "      <th>Part 1</th>\n",
       "      <th>Part 2</th>\n",
       "      <th>Part 3</th>\n",
       "      <th>Part 4</th>\n",
       "      <th>Part 5</th>\n",
       "      <th>Part 6</th>\n",
       "    </tr>\n",
       "  </thead>\n",
       "  <tbody>\n",
       "    <tr>\n",
       "      <th>1</th>\n",
       "      <td>A</td>\n",
       "      <td>B</td>\n",
       "      <td>A</td>\n",
       "      <td>0</td>\n",
       "      <td>0</td>\n",
       "      <td>0</td>\n",
       "    </tr>\n",
       "    <tr>\n",
       "      <th>31</th>\n",
       "      <td>A</td>\n",
       "      <td>B</td>\n",
       "      <td>A</td>\n",
       "      <td>0</td>\n",
       "      <td>0</td>\n",
       "      <td>0</td>\n",
       "    </tr>\n",
       "    <tr>\n",
       "      <th>63</th>\n",
       "      <td>A</td>\n",
       "      <td>B</td>\n",
       "      <td>A</td>\n",
       "      <td>B</td>\n",
       "      <td>0</td>\n",
       "      <td>0</td>\n",
       "    </tr>\n",
       "    <tr>\n",
       "      <th>75</th>\n",
       "      <td>A</td>\n",
       "      <td>B</td>\n",
       "      <td>A</td>\n",
       "      <td>B</td>\n",
       "      <td>0</td>\n",
       "      <td>0</td>\n",
       "    </tr>\n",
       "    <tr>\n",
       "      <th>94</th>\n",
       "      <td>A</td>\n",
       "      <td>B</td>\n",
       "      <td>A</td>\n",
       "      <td>B</td>\n",
       "      <td>0</td>\n",
       "      <td>0</td>\n",
       "    </tr>\n",
       "  </tbody>\n",
       "</table>\n",
       "</div>"
      ],
      "text/plain": [
       "   Part 1 Part 2 Part 3 Part 4 Part 5 Part 6\n",
       "1       A      B      A      0      0      0\n",
       "31      A      B      A      0      0      0\n",
       "63      A      B      A      B      0      0\n",
       "75      A      B      A      B      0      0\n",
       "94      A      B      A      B      0      0"
      ]
     },
     "metadata": {},
     "output_type": "display_data"
    },
    {
     "name": "stdout",
     "output_type": "stream",
     "text": [
      "P08\n"
     ]
    },
    {
     "data": {
      "text/html": [
       "<div>\n",
       "<style scoped>\n",
       "    .dataframe tbody tr th:only-of-type {\n",
       "        vertical-align: middle;\n",
       "    }\n",
       "\n",
       "    .dataframe tbody tr th {\n",
       "        vertical-align: top;\n",
       "    }\n",
       "\n",
       "    .dataframe thead th {\n",
       "        text-align: right;\n",
       "    }\n",
       "</style>\n",
       "<table border=\"1\" class=\"dataframe\">\n",
       "  <thead>\n",
       "    <tr style=\"text-align: right;\">\n",
       "      <th></th>\n",
       "      <th>Part 1</th>\n",
       "      <th>Part 2</th>\n",
       "      <th>Part 3</th>\n",
       "      <th>Part 4</th>\n",
       "      <th>Part 5</th>\n",
       "      <th>Part 6</th>\n",
       "    </tr>\n",
       "  </thead>\n",
       "  <tbody>\n",
       "    <tr>\n",
       "      <th>3</th>\n",
       "      <td>A</td>\n",
       "      <td>B</td>\n",
       "      <td>B</td>\n",
       "      <td>0</td>\n",
       "      <td>0</td>\n",
       "      <td>0</td>\n",
       "    </tr>\n",
       "  </tbody>\n",
       "</table>\n",
       "</div>"
      ],
      "text/plain": [
       "  Part 1 Part 2 Part 3 Part 4 Part 5 Part 6\n",
       "3      A      B      B      0      0      0"
      ]
     },
     "metadata": {},
     "output_type": "display_data"
    },
    {
     "name": "stdout",
     "output_type": "stream",
     "text": [
      "P09\n"
     ]
    },
    {
     "data": {
      "text/html": [
       "<div>\n",
       "<style scoped>\n",
       "    .dataframe tbody tr th:only-of-type {\n",
       "        vertical-align: middle;\n",
       "    }\n",
       "\n",
       "    .dataframe tbody tr th {\n",
       "        vertical-align: top;\n",
       "    }\n",
       "\n",
       "    .dataframe thead th {\n",
       "        text-align: right;\n",
       "    }\n",
       "</style>\n",
       "<table border=\"1\" class=\"dataframe\">\n",
       "  <thead>\n",
       "    <tr style=\"text-align: right;\">\n",
       "      <th></th>\n",
       "      <th>Part 1</th>\n",
       "      <th>Part 2</th>\n",
       "      <th>Part 3</th>\n",
       "      <th>Part 4</th>\n",
       "      <th>Part 5</th>\n",
       "      <th>Part 6</th>\n",
       "    </tr>\n",
       "  </thead>\n",
       "  <tbody>\n",
       "    <tr>\n",
       "      <th>4</th>\n",
       "      <td>A</td>\n",
       "      <td>B</td>\n",
       "      <td>C</td>\n",
       "      <td>0</td>\n",
       "      <td>0</td>\n",
       "      <td>0</td>\n",
       "    </tr>\n",
       "  </tbody>\n",
       "</table>\n",
       "</div>"
      ],
      "text/plain": [
       "  Part 1 Part 2 Part 3 Part 4 Part 5 Part 6\n",
       "4      A      B      C      0      0      0"
      ]
     },
     "metadata": {},
     "output_type": "display_data"
    },
    {
     "name": "stdout",
     "output_type": "stream",
     "text": [
      "P10\n"
     ]
    },
    {
     "data": {
      "text/html": [
       "<div>\n",
       "<style scoped>\n",
       "    .dataframe tbody tr th:only-of-type {\n",
       "        vertical-align: middle;\n",
       "    }\n",
       "\n",
       "    .dataframe tbody tr th {\n",
       "        vertical-align: top;\n",
       "    }\n",
       "\n",
       "    .dataframe thead th {\n",
       "        text-align: right;\n",
       "    }\n",
       "</style>\n",
       "<table border=\"1\" class=\"dataframe\">\n",
       "  <thead>\n",
       "    <tr style=\"text-align: right;\">\n",
       "      <th></th>\n",
       "      <th>Part 1</th>\n",
       "      <th>Part 2</th>\n",
       "      <th>Part 3</th>\n",
       "      <th>Part 4</th>\n",
       "      <th>Part 5</th>\n",
       "      <th>Part 6</th>\n",
       "    </tr>\n",
       "  </thead>\n",
       "  <tbody>\n",
       "    <tr>\n",
       "      <th>71</th>\n",
       "      <td>A</td>\n",
       "      <td>B</td>\n",
       "      <td>D</td>\n",
       "      <td>B</td>\n",
       "      <td>0</td>\n",
       "      <td>0</td>\n",
       "    </tr>\n",
       "  </tbody>\n",
       "</table>\n",
       "</div>"
      ],
      "text/plain": [
       "   Part 1 Part 2 Part 3 Part 4 Part 5 Part 6\n",
       "71      A      B      D      B      0      0"
      ]
     },
     "metadata": {},
     "output_type": "display_data"
    },
    {
     "name": "stdout",
     "output_type": "stream",
     "text": [
      "P11\n"
     ]
    },
    {
     "data": {
      "text/html": [
       "<div>\n",
       "<style scoped>\n",
       "    .dataframe tbody tr th:only-of-type {\n",
       "        vertical-align: middle;\n",
       "    }\n",
       "\n",
       "    .dataframe tbody tr th {\n",
       "        vertical-align: top;\n",
       "    }\n",
       "\n",
       "    .dataframe thead th {\n",
       "        text-align: right;\n",
       "    }\n",
       "</style>\n",
       "<table border=\"1\" class=\"dataframe\">\n",
       "  <thead>\n",
       "    <tr style=\"text-align: right;\">\n",
       "      <th></th>\n",
       "      <th>Part 1</th>\n",
       "      <th>Part 2</th>\n",
       "      <th>Part 3</th>\n",
       "      <th>Part 4</th>\n",
       "      <th>Part 5</th>\n",
       "      <th>Part 6</th>\n",
       "    </tr>\n",
       "  </thead>\n",
       "  <tbody>\n",
       "    <tr>\n",
       "      <th>32</th>\n",
       "      <td>B</td>\n",
       "      <td>A</td>\n",
       "      <td>B</td>\n",
       "      <td>0</td>\n",
       "      <td>0</td>\n",
       "      <td>0</td>\n",
       "    </tr>\n",
       "    <tr>\n",
       "      <th>61</th>\n",
       "      <td>B</td>\n",
       "      <td>A</td>\n",
       "      <td>B</td>\n",
       "      <td>A</td>\n",
       "      <td>0</td>\n",
       "      <td>0</td>\n",
       "    </tr>\n",
       "    <tr>\n",
       "      <th>64</th>\n",
       "      <td>B</td>\n",
       "      <td>A</td>\n",
       "      <td>B</td>\n",
       "      <td>A</td>\n",
       "      <td>0</td>\n",
       "      <td>0</td>\n",
       "    </tr>\n",
       "    <tr>\n",
       "      <th>92</th>\n",
       "      <td>B</td>\n",
       "      <td>A</td>\n",
       "      <td>B</td>\n",
       "      <td>A</td>\n",
       "      <td>0</td>\n",
       "      <td>0</td>\n",
       "    </tr>\n",
       "  </tbody>\n",
       "</table>\n",
       "</div>"
      ],
      "text/plain": [
       "   Part 1 Part 2 Part 3 Part 4 Part 5 Part 6\n",
       "32      B      A      B      0      0      0\n",
       "61      B      A      B      A      0      0\n",
       "64      B      A      B      A      0      0\n",
       "92      B      A      B      A      0      0"
      ]
     },
     "metadata": {},
     "output_type": "display_data"
    },
    {
     "name": "stdout",
     "output_type": "stream",
     "text": [
      "P12\n"
     ]
    },
    {
     "data": {
      "text/html": [
       "<div>\n",
       "<style scoped>\n",
       "    .dataframe tbody tr th:only-of-type {\n",
       "        vertical-align: middle;\n",
       "    }\n",
       "\n",
       "    .dataframe tbody tr th {\n",
       "        vertical-align: top;\n",
       "    }\n",
       "\n",
       "    .dataframe thead th {\n",
       "        text-align: right;\n",
       "    }\n",
       "</style>\n",
       "<table border=\"1\" class=\"dataframe\">\n",
       "  <thead>\n",
       "    <tr style=\"text-align: right;\">\n",
       "      <th></th>\n",
       "      <th>Part 1</th>\n",
       "      <th>Part 2</th>\n",
       "      <th>Part 3</th>\n",
       "      <th>Part 4</th>\n",
       "      <th>Part 5</th>\n",
       "      <th>Part 6</th>\n",
       "    </tr>\n",
       "  </thead>\n",
       "  <tbody>\n",
       "    <tr>\n",
       "      <th>70</th>\n",
       "      <td>B</td>\n",
       "      <td>A</td>\n",
       "      <td>A</td>\n",
       "      <td>C</td>\n",
       "      <td>0</td>\n",
       "      <td>0</td>\n",
       "    </tr>\n",
       "  </tbody>\n",
       "</table>\n",
       "</div>"
      ],
      "text/plain": [
       "   Part 1 Part 2 Part 3 Part 4 Part 5 Part 6\n",
       "70      B      A      A      C      0      0"
      ]
     },
     "metadata": {},
     "output_type": "display_data"
    },
    {
     "name": "stdout",
     "output_type": "stream",
     "text": [
      "P13\n"
     ]
    },
    {
     "data": {
      "text/html": [
       "<div>\n",
       "<style scoped>\n",
       "    .dataframe tbody tr th:only-of-type {\n",
       "        vertical-align: middle;\n",
       "    }\n",
       "\n",
       "    .dataframe tbody tr th {\n",
       "        vertical-align: top;\n",
       "    }\n",
       "\n",
       "    .dataframe thead th {\n",
       "        text-align: right;\n",
       "    }\n",
       "</style>\n",
       "<table border=\"1\" class=\"dataframe\">\n",
       "  <thead>\n",
       "    <tr style=\"text-align: right;\">\n",
       "      <th></th>\n",
       "      <th>Part 1</th>\n",
       "      <th>Part 2</th>\n",
       "      <th>Part 3</th>\n",
       "      <th>Part 4</th>\n",
       "      <th>Part 5</th>\n",
       "      <th>Part 6</th>\n",
       "    </tr>\n",
       "  </thead>\n",
       "  <tbody>\n",
       "    <tr>\n",
       "      <th>73</th>\n",
       "      <td>B</td>\n",
       "      <td>A</td>\n",
       "      <td>A</td>\n",
       "      <td>D</td>\n",
       "      <td>0</td>\n",
       "      <td>0</td>\n",
       "    </tr>\n",
       "  </tbody>\n",
       "</table>\n",
       "</div>"
      ],
      "text/plain": [
       "   Part 1 Part 2 Part 3 Part 4 Part 5 Part 6\n",
       "73      B      A      A      D      0      0"
      ]
     },
     "metadata": {},
     "output_type": "display_data"
    },
    {
     "name": "stdout",
     "output_type": "stream",
     "text": [
      "P14\n"
     ]
    },
    {
     "data": {
      "text/html": [
       "<div>\n",
       "<style scoped>\n",
       "    .dataframe tbody tr th:only-of-type {\n",
       "        vertical-align: middle;\n",
       "    }\n",
       "\n",
       "    .dataframe tbody tr th {\n",
       "        vertical-align: top;\n",
       "    }\n",
       "\n",
       "    .dataframe thead th {\n",
       "        text-align: right;\n",
       "    }\n",
       "</style>\n",
       "<table border=\"1\" class=\"dataframe\">\n",
       "  <thead>\n",
       "    <tr style=\"text-align: right;\">\n",
       "      <th></th>\n",
       "      <th>Part 1</th>\n",
       "      <th>Part 2</th>\n",
       "      <th>Part 3</th>\n",
       "      <th>Part 4</th>\n",
       "      <th>Part 5</th>\n",
       "      <th>Part 6</th>\n",
       "    </tr>\n",
       "  </thead>\n",
       "  <tbody>\n",
       "    <tr>\n",
       "      <th>67</th>\n",
       "      <td>B</td>\n",
       "      <td>B</td>\n",
       "      <td>B</td>\n",
       "      <td>B</td>\n",
       "      <td>0</td>\n",
       "      <td>0</td>\n",
       "    </tr>\n",
       "  </tbody>\n",
       "</table>\n",
       "</div>"
      ],
      "text/plain": [
       "   Part 1 Part 2 Part 3 Part 4 Part 5 Part 6\n",
       "67      B      B      B      B      0      0"
      ]
     },
     "metadata": {},
     "output_type": "display_data"
    },
    {
     "name": "stdout",
     "output_type": "stream",
     "text": [
      "P15\n"
     ]
    },
    {
     "data": {
      "text/html": [
       "<div>\n",
       "<style scoped>\n",
       "    .dataframe tbody tr th:only-of-type {\n",
       "        vertical-align: middle;\n",
       "    }\n",
       "\n",
       "    .dataframe tbody tr th {\n",
       "        vertical-align: top;\n",
       "    }\n",
       "\n",
       "    .dataframe thead th {\n",
       "        text-align: right;\n",
       "    }\n",
       "</style>\n",
       "<table border=\"1\" class=\"dataframe\">\n",
       "  <thead>\n",
       "    <tr style=\"text-align: right;\">\n",
       "      <th></th>\n",
       "      <th>Part 1</th>\n",
       "      <th>Part 2</th>\n",
       "      <th>Part 3</th>\n",
       "      <th>Part 4</th>\n",
       "      <th>Part 5</th>\n",
       "      <th>Part 6</th>\n",
       "    </tr>\n",
       "  </thead>\n",
       "  <tbody>\n",
       "    <tr>\n",
       "      <th>98</th>\n",
       "      <td>B</td>\n",
       "      <td>B</td>\n",
       "      <td>A</td>\n",
       "      <td>B</td>\n",
       "      <td>0</td>\n",
       "      <td>0</td>\n",
       "    </tr>\n",
       "  </tbody>\n",
       "</table>\n",
       "</div>"
      ],
      "text/plain": [
       "   Part 1 Part 2 Part 3 Part 4 Part 5 Part 6\n",
       "98      B      B      A      B      0      0"
      ]
     },
     "metadata": {},
     "output_type": "display_data"
    },
    {
     "name": "stdout",
     "output_type": "stream",
     "text": [
      "P11*\n"
     ]
    },
    {
     "data": {
      "text/plain": [
       "'Duplicate'"
      ]
     },
     "metadata": {},
     "output_type": "display_data"
    },
    {
     "name": "stdout",
     "output_type": "stream",
     "text": [
      "P02*\n"
     ]
    },
    {
     "data": {
      "text/plain": [
       "'Duplicate'"
      ]
     },
     "metadata": {},
     "output_type": "display_data"
    },
    {
     "name": "stdout",
     "output_type": "stream",
     "text": [
      "P07*\n"
     ]
    },
    {
     "data": {
      "text/plain": [
       "'Duplicate'"
      ]
     },
     "metadata": {},
     "output_type": "display_data"
    },
    {
     "name": "stdout",
     "output_type": "stream",
     "text": [
      "P06*\n"
     ]
    },
    {
     "data": {
      "text/plain": [
       "'Duplicate'"
      ]
     },
     "metadata": {},
     "output_type": "display_data"
    },
    {
     "name": "stdout",
     "output_type": "stream",
     "text": [
      "P03*\n"
     ]
    },
    {
     "data": {
      "text/plain": [
       "'Duplicate'"
      ]
     },
     "metadata": {},
     "output_type": "display_data"
    },
    {
     "name": "stdout",
     "output_type": "stream",
     "text": [
      "P04*\n"
     ]
    },
    {
     "data": {
      "text/plain": [
       "'Duplicate'"
      ]
     },
     "metadata": {},
     "output_type": "display_data"
    }
   ],
   "source": [
    "plot_schedule(J_alpha, p_alpha, 'Alpha')\n",
    "#plot_schedule(J_beta, p_beta, 'Beta')\n",
    "#plot_schedule(J_gamma, p_gamma, 'Gamma')\n",
    "#plot_schedule(J_delta, p_delta, 'delta')"
   ]
  },
  {
   "cell_type": "code",
   "execution_count": null,
   "metadata": {},
   "outputs": [],
   "source": []
  }
 ],
 "metadata": {
  "interpreter": {
   "hash": "a469ea47d8dcfd44d18298633306df2e064e32d653f3bfb5c3ac9fea98d0c74c"
  },
  "kernelspec": {
   "display_name": "Python 3",
   "language": "python",
   "name": "python3"
  },
  "language_info": {
   "codemirror_mode": {
    "name": "ipython",
    "version": 3
   },
   "file_extension": ".py",
   "mimetype": "text/x-python",
   "name": "python",
   "nbconvert_exporter": "python",
   "pygments_lexer": "ipython3",
   "version": "3.9.2"
  }
 },
 "nbformat": 4,
 "nbformat_minor": 4
}
